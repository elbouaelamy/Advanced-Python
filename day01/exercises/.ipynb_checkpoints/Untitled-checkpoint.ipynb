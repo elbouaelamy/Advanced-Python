{
 "cells": [
  {
   "cell_type": "code",
   "execution_count": null,
   "id": "a6bae7fa",
   "metadata": {},
   "outputs": [],
   "source": [
    "#include <stdio.h>\n",
    "#include <stdlib.h>\n",
    "#include <time.h>\n",
    "\n",
    "#define N 1000\n",
    "#define SIZE_OF 8\n",
    "#define SEED 86456\n",
    "\n",
    "double x[N][N];\n",
    "double y[N][N];\n",
    "double z[N][N];\n",
    "double tx[N][N];\n",
    "\n",
    "int main() {\n",
    "    int i, j, k;\n",
    "    double msec, rate;\n",
    "    clock_t start, finish;\n",
    "\n",
    "    srand(SEED);\n",
    "\n",
    "    // Initialize matrices\n",
    "    for (i = 0; i < N; i++) {\n",
    "        for (j = 0; j < N; j++) {\n",
    "            x[i][j] = ((double)rand() / RAND_MAX) + 1.0;\n",
    "            y[i][j] = ((double)rand() / RAND_MAX) + 1.0;\n",
    "            z[i][j] = 0.0;\n",
    "            tx[i][j] = 0.0;\n",
    "        }\n",
    "    }\n",
    "\n",
    "    // Naive Matrix Multiplication\n",
    "    start = clock();\n",
    "\n",
    "    for (i = 0; i < N; i++) {\n",
    "        for (j = 0; j < N; j++) {\n",
    "            for (k = 0; k < N; k++) {\n",
    "                z[i][j] += x[i][k] * y[k][j];\n",
    "            }\n",
    "        }\n",
    "    }\n",
    "\n",
    "    finish = clock();\n",
    "\n",
    "    msec = ((double)(finish - start)) / CLOCKS_PER_SEC * 1000.0;\n",
    "    rate = (N * N * N * 2.0) / (msec * 1e-3) / 1e9;\n",
    "\n",
    "    printf(\"Naive version: %f milliseconds, %f GFLOPS\\n\", msec, rate);\n",
    "\n",
    "    return 0;\n",
    "}\n"
   ]
  }
 ],
 "metadata": {
  "kernelspec": {
   "display_name": "Python 3 (ipykernel)",
   "language": "python",
   "name": "python3"
  },
  "language_info": {
   "codemirror_mode": {
    "name": "ipython",
    "version": 3
   },
   "file_extension": ".py",
   "mimetype": "text/x-python",
   "name": "python",
   "nbconvert_exporter": "python",
   "pygments_lexer": "ipython3",
   "version": "3.9.13"
  }
 },
 "nbformat": 4,
 "nbformat_minor": 5
}
