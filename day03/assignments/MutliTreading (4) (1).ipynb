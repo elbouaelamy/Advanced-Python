{
 "cells": [
  {
   "cell_type": "markdown",
   "id": "1d57264a",
   "metadata": {},
   "source": [
    "## 1. Simple Thread Creation\n",
    "\n",
    "Create a simple program that uses threading to print numbers from 1 to 5 in two separate threads."
   ]
  },
  {
   "cell_type": "code",
   "execution_count": 1,
   "id": "0fb3360f",
   "metadata": {},
   "outputs": [
    {
     "name": "stdout",
     "output_type": "stream",
     "text": [
      "Thread 1 is starting\n",
      "1\n",
      "2\n",
      "3\n",
      "4\n",
      "5\n",
      "Thread 1 is finished\n",
      "Thread 2 is starting\n",
      "1\n",
      "2\n",
      "3\n",
      "4\n",
      "5\n",
      "Thread 2 is finished\n"
     ]
    }
   ],
   "source": [
    "# your code here\n",
    "from threading import Thread\n",
    "\n",
    "def print_1_5(num):\n",
    "    print(f\"Thread {num} is starting\")\n",
    "    for _ in range(1,6):\n",
    "        print(_)\n",
    "    print(f\"Thread {num} is finished\")\n",
    "        \n",
    "        \n",
    "        \n",
    "t1 = Thread(target = print_1_5, args=(1,))\n",
    "t2 = Thread(target = print_1_5, args=(2,))\n",
    "\n",
    "t1.start()\n",
    "t2.start()\n",
    "\n",
    "t1.join()\n",
    "t2.join()"
   ]
  },
  {
   "cell_type": "markdown",
   "id": "a8d8ab14",
   "metadata": {},
   "source": [
    "## 2. Thread Synchronization\n",
    "\n",
    "Modify the program from Exercise 1 to use locks to synchronize the two threads and ensure that they print numbers alternately."
   ]
  },
  {
   "cell_type": "code",
   "execution_count": 2,
   "id": "c3dbaf9d",
   "metadata": {},
   "outputs": [
    {
     "name": "stdout",
     "output_type": "stream",
     "text": [
      "Thread 1 is workingThread 2 is working\n",
      "1\n",
      "\n",
      "2\n",
      "Thread 2 is workingThread 1 is working\n",
      "3\n",
      "\n",
      "4\n",
      "Thread 2 is workingThread 1 is working\n",
      "5\n",
      "\n",
      "6\n",
      "Thread 1 is finished\n",
      "Thread 2 is finished\n"
     ]
    }
   ],
   "source": [
    "# your code here\n",
    "from threading import Thread, Lock\n",
    "from time import sleep\n",
    "\n",
    "counter = 1\n",
    "\n",
    "def print_1_5(num):\n",
    "    global counter\n",
    "    sleep(1)\n",
    "    with Lock():\n",
    "        if counter <= 5:\n",
    "            print(f\"Thread {num} is working\")\n",
    "            print(counter)\n",
    "            counter += 1\n",
    "            return print_1_5(num)\n",
    "        print(f\"Thread {num} is finished\")\n",
    "        return\n",
    "\n",
    "        \n",
    "t1 = Thread(target = print_1_5, args=(1,))\n",
    "t2 = Thread(target = print_1_5, args=(2,))\n",
    "\n",
    "t1.start()\n",
    "t2.start()\n",
    "\n",
    "\n",
    "\n",
    "t1.join()\n",
    "t2.join()"
   ]
  },
  {
   "cell_type": "markdown",
   "id": "8d45fee2",
   "metadata": {},
   "source": [
    "## 3. Thread Pooling\n",
    "\n",
    "Use the `concurrent.futures.ThreadPoolExecutor` module to create a thread pool and parallelize a task (e.g., calculating the square of numbers) among multiple threads.\n",
    "\n",
    "```python\n",
    "numbers = [1, 2, 3, 4, 5]\n",
    "```"
   ]
  },
  {
   "cell_type": "code",
   "execution_count": 3,
   "id": "0379e5e9",
   "metadata": {},
   "outputs": [
    {
     "name": "stdout",
     "output_type": "stream",
     "text": [
      "Thread 1 is working\n",
      "Thread 2 is working\n",
      "Thread 3 is working\n",
      "Thread 4 is working\n",
      "Thread 5 is working\n",
      "The square root of 1 is 1.0\n",
      "The square root of 2 is 1.4142135623730951\n",
      "The square root of 4 is 2.0\n",
      "The square root of 3 is 1.7320508075688772\n",
      "The square root of 5 is 2.23606797749979\n",
      "Thread 1 is finished\n",
      "Thread 3 is finished\n",
      "Thread 2 is finished\n",
      "Thread 4 is finished\n",
      "Thread 5 is finished\n",
      "Done\n"
     ]
    }
   ],
   "source": [
    "# your code here\n",
    "from concurrent.futures import ThreadPoolExecutor\n",
    "from time import sleep\n",
    "import numpy as np\n",
    "\n",
    "def sqrt_num(num):\n",
    "    print(f\"Thread {num} is working\")\n",
    "    sleep(1)\n",
    "    print(f\"The square root of {num} is {np.sqrt(num)}\")\n",
    "    sleep(1)\n",
    "    print(f\"Thread {num} is finished\")\n",
    "\n",
    "with ThreadPoolExecutor() as executer:\n",
    "    numbers = [1, 2, 3, 4, 5]\n",
    "    executer.map(sqrt_num, numbers)\n",
    "    \n",
    "    \n",
    "print(\"Done\")"
   ]
  },
  {
   "cell_type": "markdown",
   "id": "aacf816a",
   "metadata": {},
   "source": [
    "## 4. Thread with Function Arguments\n",
    "\n",
    "```python\n",
    "\n",
    "import threading\n",
    "import time\n",
    "\n",
    "def print_hello():\n",
    "    for _ in range(5):\n",
    "        print(\"Hello, \", end='')\n",
    "        time.sleep(0.1)\n",
    "\n",
    "def print_world():\n",
    "    for _ in range(5):\n",
    "        print(\"World!\")\n",
    "        time.sleep(0.1)\n",
    "\n",
    "# Create two threads\n",
    "thread1 = threading.Thread(target=print_hello)\n",
    "thread2 = threading.Thread(target=print_world)\n",
    "\n",
    "# Start the threads\n",
    "thread1.start()\n",
    "thread2.start()\n",
    "\n",
    "# Wait for both threads to finish\n",
    "thread1.join()\n",
    "thread2.join()\n",
    "```\n",
    "\n",
    "Modify this program to pass an argument to the threads and print the thread's name along with the message."
   ]
  },
  {
   "cell_type": "code",
   "execution_count": 4,
   "id": "d7fd05ee",
   "metadata": {},
   "outputs": [
    {
     "name": "stdout",
     "output_type": "stream",
     "text": [
      "Thread 1 is working\n",
      "Thread 2 is working\n",
      "World!Hello, \n",
      "Hello, World!\n",
      "Hello, World!\n",
      "Hello, World!\n",
      "World!\n",
      "Hello, Thread 1 is finished\n",
      "Thread 2 is finished\n"
     ]
    }
   ],
   "source": [
    "#your code here\n",
    "import threading\n",
    "import time\n",
    "\n",
    "def print_hello(name):\n",
    "    print(f\"Thread {name} is working\")\n",
    "    sleep(0.5)\n",
    "    for _ in range(5):\n",
    "        print(\"Hello, \", end='')\n",
    "        time.sleep(0.1)\n",
    "    print(f\"Thread {name} is finished\")\n",
    "\n",
    "def print_world(name):\n",
    "    print(f\"Thread {name} is working\")\n",
    "    sleep(0.5)\n",
    "    for _ in range(5):\n",
    "        print(\"World!\")\n",
    "        time.sleep(0.1)\n",
    "    print(f\"Thread {name} is finished\")\n",
    "    \n",
    "\n",
    "# Create two threads\n",
    "thread1 = threading.Thread(target=print_hello, args=(1,))\n",
    "thread2 = threading.Thread(target=print_world, args=(2,))\n",
    "\n",
    "# Start the threads\n",
    "thread1.start()\n",
    "thread2.start()\n",
    "\n",
    "# Wait for both threads to finish\n",
    "thread1.join()\n",
    "thread2.join()"
   ]
  }
 ],
 "metadata": {
  "kernelspec": {
   "display_name": "Python 3 (ipykernel)",
   "language": "python",
   "name": "python3"
  },
  "language_info": {
   "codemirror_mode": {
    "name": "ipython",
    "version": 3
   },
   "file_extension": ".py",
   "mimetype": "text/x-python",
   "name": "python",
   "nbconvert_exporter": "python",
   "pygments_lexer": "ipython3",
   "version": "3.11.5"
  }
 },
 "nbformat": 4,
 "nbformat_minor": 5
}
